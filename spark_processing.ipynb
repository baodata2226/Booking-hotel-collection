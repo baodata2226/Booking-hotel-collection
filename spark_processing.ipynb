{
 "cells": [
  {
   "cell_type": "code",
   "id": "initial_id",
   "metadata": {
    "collapsed": true,
    "ExecuteTime": {
     "end_time": "2025-03-06T11:44:05.454951Z",
     "start_time": "2025-03-06T11:44:01.782856Z"
    }
   },
   "source": [
    "from pyspark.sql import SparkSession\n",
    "\n",
    "# Khởi tạo Spark Session\n",
    "spark = SparkSession.builder \\\n",
    "    .appName(\"HotelDataProcessing\") \\\n",
    "    .config(\"spark.hadoop.fs.defaultFS\", \"hdfs://localhost:9000\") \\\n",
    "    .config(\"spark.hadoop.ipc.maximum.data.length\", \"1073741824\") \\\n",
    "    .config(\"spark.driver.memory\", \"4g\") \\\n",
    "    .config(\"spark.executor.memory\", \"4g\") \\\n",
    "    .getOrCreate()"
   ],
   "outputs": [],
   "execution_count": 1
  },
  {
   "metadata": {
    "ExecuteTime": {
     "end_time": "2025-03-06T11:44:05.486204Z",
     "start_time": "2025-03-06T11:44:05.455982Z"
    }
   },
   "cell_type": "code",
   "source": [
    "cores = spark._jsc.sc().getExecutorMemoryStatus().keySet().size()\n",
    "print(\"You are working with\", cores, \"core(s)\")"
   ],
   "id": "7eec5837cc88d645",
   "outputs": [
    {
     "name": "stdout",
     "output_type": "stream",
     "text": [
      "You are working with 1 core(s)\n"
     ]
    }
   ],
   "execution_count": 2
  },
  {
   "metadata": {
    "ExecuteTime": {
     "end_time": "2025-03-06T11:44:05.501415Z",
     "start_time": "2025-03-06T11:44:05.488241Z"
    }
   },
   "cell_type": "code",
   "source": [
    "namenode_uri = \"hdfs://localhost:9000\"\n",
    "facility_path = f\"{namenode_uri}/data_lake/raw/hotels/facility\"\n",
    "faqs_path = f\"{namenode_uri}/data_lake/raw/hotels/faqs\"\n",
    "images_path = f\"{namenode_uri}/data_lake/raw/hotels/images\"\n",
    "policy_path = f\"{namenode_uri}/data_lake/raw/hotels/policy\"\n",
    "reviews_path = f\"{namenode_uri}/data_lake/raw/hotels/reviews\"\n",
    "rooms_path = f\"{namenode_uri}/data_lake/raw/hotels/room\""
   ],
   "id": "d4cc155574e393b6",
   "outputs": [],
   "execution_count": 3
  },
  {
   "metadata": {
    "ExecuteTime": {
     "end_time": "2025-03-06T11:44:14.236407Z",
     "start_time": "2025-03-06T11:44:05.503519Z"
    }
   },
   "cell_type": "code",
   "source": [
    "df_facility = spark.read.csv(f\"{facility_path}/*.csv\", header=True, inferSchema=True)\n",
    "df_faqs = spark.read.csv(f\"{faqs_path}/*.csv\", header=True, inferSchema=True)\n",
    "df_images = spark.read.csv(f\"{images_path}/*.csv\", header=True, inferSchema=True)\n",
    "df_policy = spark.read.csv(f\"{policy_path}/*.csv\", header=True, inferSchema=True)\n",
    "df_reviews = spark.read.csv(f\"{reviews_path}/*.csv\", header=True, inferSchema=True)\n",
    "df_rooms = spark.read.csv(f\"{rooms_path}/*.csv\", header=True, inferSchema=True)"
   ],
   "id": "33a2bf8ea8121f43",
   "outputs": [],
   "execution_count": 4
  },
  {
   "metadata": {
    "ExecuteTime": {
     "end_time": "2025-03-06T11:44:15.711214Z",
     "start_time": "2025-03-06T11:44:14.240005Z"
    }
   },
   "cell_type": "code",
   "source": [
    "def print_schema(df):\n",
    "    return df.printSchema()\n",
    "    \n",
    "print(df_facility.count())\n",
    "print_schema(df_facility)\n",
    "\n",
    "print(df_faqs.count())\n",
    "print_schema(df_faqs)\n",
    "\n",
    "print(df_images.count())\n",
    "print_schema(df_images)\n",
    "\n",
    "print(df_policy.count())\n",
    "print_schema(df_policy)\n",
    "\n",
    "print(df_reviews.count())\n",
    "print_schema(df_reviews)\n",
    "\n",
    "print(df_rooms.count())\n",
    "print_schema(df_rooms)"
   ],
   "id": "46283b30982c46b4",
   "outputs": [
    {
     "name": "stdout",
     "output_type": "stream",
     "text": [
      "16356\n",
      "root\n",
      " |-- Url: string (nullable = true)\n",
      " |-- Facilities: string (nullable = true)\n",
      "\n",
      "16356\n",
      "root\n",
      " |-- Url: string (nullable = true)\n",
      " |-- FAQs: string (nullable = true)\n",
      "\n",
      "2378\n",
      "root\n",
      " |-- url: string (nullable = true)\n",
      " |-- images: string (nullable = true)\n",
      " |-- images_num: integer (nullable = true)\n",
      "\n",
      "16356\n",
      "root\n",
      " |-- url: string (nullable = true)\n",
      " |-- policy_info: string (nullable = true)\n",
      "\n",
      "110073\n",
      "root\n",
      " |-- username: string (nullable = true)\n",
      " |-- score: string (nullable = true)\n",
      " |-- comment: string (nullable = true)\n",
      " |-- created_at: string (nullable = true)\n",
      " |-- stay_at: string (nullable = true)\n",
      " |-- hotel_url: string (nullable = true)\n",
      " |-- review_count: string (nullable = true)\n",
      "\n",
      "4582\n",
      "root\n",
      " |-- _c0: integer (nullable = true)\n",
      " |-- url: string (nullable = true)\n",
      " |-- price_discount: string (nullable = true)\n",
      " |-- original_price: string (nullable = true)\n",
      " |-- discount: double (nullable = true)\n",
      "\n"
     ]
    }
   ],
   "execution_count": 5
  },
  {
   "metadata": {
    "ExecuteTime": {
     "end_time": "2025-03-06T11:44:15.899783Z",
     "start_time": "2025-03-06T11:44:15.713130Z"
    }
   },
   "cell_type": "code",
   "source": "df_rooms.show(5)",
   "id": "c838da524d69b47e",
   "outputs": [
    {
     "name": "stdout",
     "output_type": "stream",
     "text": [
      "+---+--------------------+--------------+--------------+--------+\n",
      "|_c0|                 url|price_discount|original_price|discount|\n",
      "+---+--------------------+--------------+--------------+--------+\n",
      "|  0|https://www.booki...| VND 1.570.000| VND 1.570.000|     0.0|\n",
      "|  1|https://www.booki...| VND 2.500.000| VND 2.500.000|     0.0|\n",
      "|  2|https://www.booki...|   VND 312.300| VND 1.041.000|    70.0|\n",
      "|  3|https://www.booki...|   VND 349.800| VND 1.166.000|    70.0|\n",
      "|  4|https://www.booki...|   VND 320.000|   VND 320.000|     0.0|\n",
      "+---+--------------------+--------------+--------------+--------+\n",
      "only showing top 5 rows\n",
      "\n"
     ]
    }
   ],
   "execution_count": 6
  },
  {
   "metadata": {
    "ExecuteTime": {
     "end_time": "2025-03-06T11:44:16.054849Z",
     "start_time": "2025-03-06T11:44:15.901966Z"
    }
   },
   "cell_type": "code",
   "source": "df_reviews.show(5)",
   "id": "df7e108353b02b55",
   "outputs": [
    {
     "name": "stdout",
     "output_type": "stream",
     "text": [
      "+--------+-----+--------------------+--------------------+------------+--------------------+------------+\n",
      "|username|score|             comment|          created_at|     stay_at|           hotel_url|review_count|\n",
      "+--------+-----+--------------------+--------------------+------------+--------------------+------------+\n",
      "|     Năm|  8,0|{'title': 'Rất tố...|ngày 2 tháng 9 nă...|tháng 9/2024|https://www.booki...|           1|\n",
      "|     Mai|  7,0|{'title': 'Khách ...|ngày 15 tháng 2 n...|Tháng 2/2022|https://www.booki...|          20|\n",
      "|    Linh|  7,0|{'title': 'Tốt', ...|ngày 23 tháng 6 n...|tháng 6/2024|https://www.booki...|          20|\n",
      "|    Thoa|  8,0|{'title': 'được',...|ngày 7 tháng 7 nă...|tháng 7/2022|https://www.booki...|          20|\n",
      "|      Tư|  6,0|{'title': 'Tạm, đ...|ngày 12 tháng 4 n...|tháng 4/2024|https://www.booki...|          20|\n",
      "+--------+-----+--------------------+--------------------+------------+--------------------+------------+\n",
      "only showing top 5 rows\n",
      "\n"
     ]
    }
   ],
   "execution_count": 7
  },
  {
   "metadata": {
    "ExecuteTime": {
     "end_time": "2025-03-06T11:44:18.005393Z",
     "start_time": "2025-03-06T11:44:16.057170Z"
    }
   },
   "cell_type": "code",
   "source": "df_reviews.collect()[0]['comment']",
   "id": "7b5f2b03522e75a0",
   "outputs": [
    {
     "data": {
      "text/plain": [
       "\"{'title': 'Rất tốt', 'positive': None, 'negative': None}\""
      ]
     },
     "execution_count": 8,
     "metadata": {},
     "output_type": "execute_result"
    }
   ],
   "execution_count": 8
  },
  {
   "metadata": {
    "ExecuteTime": {
     "end_time": "2025-03-06T11:44:18.794409Z",
     "start_time": "2025-03-06T11:44:18.007388Z"
    }
   },
   "cell_type": "code",
   "source": "df_facility.collect()[0]['Facilities']",
   "id": "a175dbfd8d997770",
   "outputs": [
    {
     "data": {
      "text/plain": [
       "\"{'best_facilities': ['WiFi miễn phí', 'Chỗ đỗ xe miễn phí', 'Bữa sáng', 'Nhà hàng', 'Dịch vụ phòng', 'Phòng không hút thuốc', 'Lễ tân 24 giờ', 'Phòng gia đình', 'Xe đưa đón sân bay', 'Hồ bơi ngoài trời'], 'all_facilities': {'Phòng tắm': ['Phòng tắm riêng', 'Chậu rửa vệ sinh (bidet)', 'Khăn tắm', 'Dép', 'Máy sấy tóc', 'Vòi sen', 'Nhà vệ sinh', 'Giấy vệ sinh', 'Đồ vệ sinh cá nhân miễn phí'], 'Phòng ngủ': ['Đồng hồ báo thức', 'Phòng thay quần áo', 'Tủ hoặc phòng để quần áo', 'Ra trải giường'], 'Tầm nhìn': ['Nhìn ra thành phố', 'Hướng nhìn sân trong', 'Nhìn ra vườn', 'Tầm nhìn ra khung cảnh'], 'Ngoài trời': ['Tiện nghi BBQ', 'Sân hiên', 'Sân vườn', 'Tiện nghi BBQ - Phụ phí', 'Sân hiên phơi nắng', 'Bàn ghế ngoài trời', 'Sân trong', 'Khu vực ăn uống ngoài trời'], 'Nhà bếp': ['Ấm đun nước điện', 'Sản phẩm lau rửa', 'Bàn ăn', 'Bếp chung', 'Máy giặt'], 'Tiện ích trong phòng': ['Giá treo quần áo', 'Ổ điện gần giường'], 'Hoạt động': ['Xe đạp', 'Tour/lớp về văn hóa địa phương - Phụ phí', 'Lặn với ống thở - Phụ phíNgoài khuôn viên', 'Ca-nô - Phụ phíNgoài khuôn viên', 'Giờ vàng - Phụ phí', 'Lớp dạy nấu ăn - Phụ phíNgoài khuôn viên', 'Biểu diễn/nhạc sống - Phụ phíNgoài khuôn viên', 'Lặn - Phụ phíNgoài khuôn viên', 'Đi bộ đường dài - Phụ phíNgoài khuôn viên', 'Tour đi xe đạp - Phụ phí', 'Tour đi bộ - Phụ phí', 'Cho thuê xe đạp - Phụ phí'], 'Khu vực phòng khách': ['Khu vực tiếp khách', 'Bàn làm việc'], 'Truyền thông & Công nghệ': ['Truyền hình cáp', 'TV', 'TV màn hình phẳng', 'Truyền hình vệ tinh'], 'Đồ ăn & thức uống': ['Nhà hàng', 'Rượu vang/sâm panh - Phụ phí', 'Minibar', 'Bữa ăn trẻ em - Phụ phí', 'Bữa ăn tự chọn phù hợp với trẻ em'], 'Internet': ['Wi-fi có ở toàn bộ khách sạn và miễn phí.'], 'Chỗ đậu xe': ['Có chỗ đỗ xe công cộng miễn phí tại chỗ (không cần đặt chỗ trước).'], 'Dịch vụ lễ tân': ['Giữ hành lí', 'Có xuất hóa đơn', 'Nhận/trả phòng riêng', 'Bàn bán tour', 'Lễ tân 24 giờ', 'Dịch vụ trợ giúp đặc biệt', 'Nhận/trả phòng cấp tốc - Phụ phí'], 'Dịch vụ giải trí và gia đình': ['Cửa an toàn cho trẻ nhỏ', 'Nắp che ổ cắm điện an toàn'], 'Dịch vụ lau dọn': ['Dọn phòng hàng ngày', 'Giặt ủi - Phụ phí', 'Giặt khô - Phụ phí', 'Dịch vụ là (ủi) - Phụ phí'], 'Dịch vụ cho doanh nhân': ['Tiện nghi tổ chức hội họp/tiệc - Phụ phí'], 'An ninh': ['Báo động an ninh', 'Ổ khóa', 'Bình chữa cháy', 'Ổ khóa mở bằng thẻ', 'Bảo vệ 24/7', 'Thiết bị báo cháy'], 'Tổng quát': ['Lối vào riêng', 'Dịch vụ phòng - Phụ phí', 'Hệ thống cách âm', 'Thiết bị báo carbon monoxide', 'Xe đưa đón sân bay - Phụ phí', 'Dịch vụ báo thức', 'Khu vực cho phép hút thuốc', 'Điều hòa nhiệt độ', 'Sàn lát gạch/đá cẩm thạch', 'Không gây dị ứng', 'Cấm hút thuốc trong toàn bộ khuôn viên', 'Dịch vụ đưa đón - Phụ phí', 'Tiện nghi cho khách khuyết tật', 'Dịch vụ báo thức', 'Phòng cách âm', 'Giao nhận đồ tạp hóa', 'Cho thuê xe hơi', 'Phòng không hút thuốc', 'Phòng không gây dị ứng', 'Phòng gia đình - Phụ phí'], 'Lối vào dành cho người khuyết tật': ['Lối vào cho người đi xe lăn', 'Các tầng trên chỉ lên được bằng cầu thang', 'Toilet dành cho người khuyết tật'], 'Hồ bơi ngoài trờiMiễn phí!': ['Khăn hồ bơi/bãi biển', 'Ghế/ghế dài tắm nắng', 'Dành cho mọi độ tuổi', 'Ô (dù) che nắng loại to', 'Mở cửa quanh năm', 'Chỗ cạn'], 'Chăm sóc sức khỏe': ['Hồ bơi trẻ em', 'Ghế/ghế dài tắm nắng', 'Ô (dù) che nắng loại to'], 'Ngôn ngữ được sử dụng': ['Tiếng Việt', 'Tiếng Anh']}}\""
      ]
     },
     "execution_count": 9,
     "metadata": {},
     "output_type": "execute_result"
    }
   ],
   "execution_count": 9
  },
  {
   "metadata": {
    "ExecuteTime": {
     "end_time": "2025-03-06T11:44:19.505679Z",
     "start_time": "2025-03-06T11:44:18.795421Z"
    }
   },
   "cell_type": "code",
   "source": [
    "df_final = df_reviews.join(df_rooms, df_reviews.hotel_url == df_rooms.url, how='left') \\\n",
    "                     .join(df_images, on='url', how='left')\n",
    "\n",
    "df_final = df_final.drop('username', 'hotel_url', 'images', 'created_at', '_c0')\n",
    "print(df_final.count())  "
   ],
   "id": "81b04b937acf68d",
   "outputs": [
    {
     "name": "stdout",
     "output_type": "stream",
     "text": [
      "211060\n"
     ]
    }
   ],
   "execution_count": 10
  },
  {
   "metadata": {
    "ExecuteTime": {
     "end_time": "2025-03-06T11:44:19.891437Z",
     "start_time": "2025-03-06T11:44:19.507191Z"
    }
   },
   "cell_type": "code",
   "source": "df_final.show(5)",
   "id": "2edab40df6686a70",
   "outputs": [
    {
     "name": "stdout",
     "output_type": "stream",
     "text": [
      "+--------------------+-----+--------------------+------------+------------+--------------+--------------+--------+----------+\n",
      "|                 url|score|             comment|     stay_at|review_count|price_discount|original_price|discount|images_num|\n",
      "+--------------------+-----+--------------------+------------+------------+--------------+--------------+--------+----------+\n",
      "|https://www.booki...|  8,0|{'title': 'Rất tố...|tháng 9/2024|           1|   VND 450.000|   VND 450.000|     0.0|         7|\n",
      "|https://www.booki...|  7,0|{'title': 'Khách ...|Tháng 2/2022|          20|   VND 900.000|   VND 900.000|     0.0|        36|\n",
      "|https://www.booki...|  7,0|{'title': 'Khách ...|Tháng 2/2022|          20|   VND 700.000|   VND 700.000|     0.0|        36|\n",
      "|https://www.booki...|  7,0|{'title': 'Tốt', ...|tháng 6/2024|          20|   VND 900.000|   VND 900.000|     0.0|        36|\n",
      "|https://www.booki...|  7,0|{'title': 'Tốt', ...|tháng 6/2024|          20|   VND 700.000|   VND 700.000|     0.0|        36|\n",
      "+--------------------+-----+--------------------+------------+------------+--------------+--------------+--------+----------+\n",
      "only showing top 5 rows\n",
      "\n"
     ]
    }
   ],
   "execution_count": 11
  }
 ],
 "metadata": {
  "kernelspec": {
   "display_name": "Python 3",
   "language": "python",
   "name": "python3"
  },
  "language_info": {
   "codemirror_mode": {
    "name": "ipython",
    "version": 2
   },
   "file_extension": ".py",
   "mimetype": "text/x-python",
   "name": "python",
   "nbconvert_exporter": "python",
   "pygments_lexer": "ipython2",
   "version": "2.7.6"
  }
 },
 "nbformat": 4,
 "nbformat_minor": 5
}
